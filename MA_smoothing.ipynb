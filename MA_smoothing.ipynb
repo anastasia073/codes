{
 "cells": [
  {
   "cell_type": "markdown",
   "id": "4a3ef390-8447-4a41-a2d3-9ffa5c792c53",
   "metadata": {},
   "source": [
    "## Function to implement moving average smoothing for a time series"
   ]
  },
  {
   "cell_type": "markdown",
   "id": "8a316e34-d0f4-47ee-a612-202b056b6012",
   "metadata": {},
   "source": [
    "The specifics of this code is that it performs the algotithm on every combination of region x category"
   ]
  },
  {
   "cell_type": "code",
   "execution_count": 1,
   "id": "c81d10a8-64ae-4058-ad00-b07afbb257d7",
   "metadata": {},
   "outputs": [],
   "source": [
    "def implement_moving_average(df, region, category, window_size, dates_to_replace):\n",
    "    # Step 1: Specify region and client type\n",
    "    employment_data_subset = df[\n",
    "        (df[\"REGION_LOXAM\"] == region)\n",
    "        & (df[\"CATEGORY\"] == category)\n",
    "    ].copy()\n",
    "    \n",
    "    # Step 2: Create separate column for predictions\n",
    "    employment_data_subset['OFFERS_PREDICTED'] = employment_data_subset['OFFERS_NUM']\n",
    "\n",
    "    # Step 3: Set time as index\n",
    "    employment_data_subset = employment_data_subset.set_index('TIME')\n",
    "\n",
    "    # Step 4: Set the window size for the moving average\n",
    "    window_size = window_size\n",
    "\n",
    "    # Step 5: Compute the moving average\n",
    "    employment_data_subset['MA'] = employment_data_subset['OFFERS_NUM'].rolling(window=window_size).mean()\n",
    "\n",
    "    # Step 6: Specify the dates at which you want to replace values\n",
    "    dates_to_replace = dates_to_replace\n",
    "\n",
    "    # Step 7: Replace values in 'OFFERS_PREDICTED' column with values from 'MA' column\n",
    "    employment_data_subset.loc[dates_to_replace, 'OFFERS_PREDICTED'] = employment_data_subset.loc[dates_to_replace, 'MA']\n",
    "    \n",
    "    return employment_data_subset"
   ]
  },
  {
   "cell_type": "code",
   "execution_count": null,
   "id": "b2d37d55-6204-4b6a-8815-c48fbd88dcf8",
   "metadata": {},
   "outputs": [],
   "source": []
  }
 ],
 "metadata": {
  "kernelspec": {
   "display_name": "Python 3 (ipykernel)",
   "language": "python",
   "name": "python3"
  },
  "language_info": {
   "codemirror_mode": {
    "name": "ipython",
    "version": 3
   },
   "file_extension": ".py",
   "mimetype": "text/x-python",
   "name": "python",
   "nbconvert_exporter": "python",
   "pygments_lexer": "ipython3",
   "version": "3.9.6"
  }
 },
 "nbformat": 4,
 "nbformat_minor": 5
}
