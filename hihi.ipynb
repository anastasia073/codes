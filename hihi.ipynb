{
 "cells": [
  {
   "cell_type": "markdown",
   "id": "4a3ef390-8447-4a41-a2d3-9ffa5c792c53",
   "metadata": {},
   "source": [
    "hihihaha"
   ]
  },
  {
   "cell_type": "code",
   "execution_count": null,
   "id": "c81d10a8-64ae-4058-ad00-b07afbb257d7",
   "metadata": {},
   "outputs": [],
   "source": []
  }
 ],
 "metadata": {
  "kernelspec": {
   "display_name": "Python 3 (ipykernel)",
   "language": "python",
   "name": "python3"
  },
  "language_info": {
   "codemirror_mode": {
    "name": "ipython",
    "version": 3
   },
   "file_extension": ".py",
   "mimetype": "text/x-python",
   "name": "python",
   "nbconvert_exporter": "python",
   "pygments_lexer": "ipython3",
   "version": "3.9.6"
  }
 },
 "nbformat": 4,
 "nbformat_minor": 5
}
