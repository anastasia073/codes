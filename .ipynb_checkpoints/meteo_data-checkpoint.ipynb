{
 "cells": [
  {
   "cell_type": "markdown",
   "id": "0b0da255-5f34-4fec-bdf1-3977c81de6c5",
   "metadata": {},
   "source": [
    "# This code maps the region name with the geographical coordinates of a given data point"
   ]
  },
  {
   "cell_type": "markdown",
   "id": "ee23be7d-6e0d-42b0-9979-26495b3122bd",
   "metadata": {},
   "source": [
    "In this example a .json file with french region coordinates is used"
   ]
  },
  {
   "cell_type": "markdown",
   "id": "bdfc1004-7b40-48f8-80c9-e06402cd2fa3",
   "metadata": {},
   "source": [
    "* Step 1: read the .grib files that are usually used to store meteo data"
   ]
  },
  {
   "cell_type": "code",
   "execution_count": null,
   "id": "af626ab9-bfd7-4ad8-979d-1bd98bc49004",
   "metadata": {},
   "outputs": [],
   "source": [
    "import pygrib\n",
    "import pandas as pd\n",
    "\n",
    "def read_grib(path):\n",
    "    # Encode file path to handle special characters\n",
    "    file_path = path\n",
    "    encoded_file_path = file_path.encode('unicode_escape').decode('ascii')\n",
    "    \n",
    "    # Open the GRIB file\n",
    "    grbs = pygrib.open(encoded_file_path)\n",
    "    \n",
    "    # Initialize a list to store extracted data\n",
    "    data = []\n",
    "    \n",
    "    # Loop through each GRIB message\n",
    "    for grb in grbs:\n",
    "        # Extract the relevant data from the GRIB message\n",
    "        grb_data = {\n",
    "            'validity_date': grb.validityDate,\n",
    "            'parameter_name': grb.parameterName,\n",
    "            'parameter_units': grb.parameterUnits,\n",
    "            'value' : grb.values,\n",
    "            'latitude' : grb.latlons()[0],\n",
    "            'longitude' : grb.latlons()[1]\n",
    "            # Add more fields as needed\n",
    "        }\n",
    "        data.append(grb_data)\n",
    "\n",
    "    # Create a DataFrame from the extracted data\n",
    "    df = pd.DataFrame(data)\n",
    "    \n",
    "    # Expand rows containing lists of values\n",
    "    df = pd.concat([row_converter(row) for _, row in df.iterrows()], ignore_index=True)\n",
    "    df = pd.concat([row_converter(row) for _, row in df.iterrows()], ignore_index=True)\n",
    "\n",
    "    return df\n"
   ]
  },
  {
   "cell_type": "markdown",
   "id": "471718c5-4113-4805-8254-46507382febd",
   "metadata": {},
   "source": [
    "* Step 2: map the regions"
   ]
  },
  {
   "cell_type": "code",
   "execution_count": null,
   "id": "dfc41538-7963-4227-b7c9-bbca70566c76",
   "metadata": {},
   "outputs": [],
   "source": [
    "def get_regions(path):\n",
    "    # Read GRIB file and convert to GeoDataFrame\n",
    "    meteo = read_grib(path)\n",
    "    \n",
    "    # Convert latitude and longitude to a single geometry column\n",
    "    geometry = [Point(xy) for xy in zip(meteo['longitude'], meteo['latitude'])]\n",
    "    \n",
    "    # Drop \"useless\" columns\n",
    "    meteo = meteo.drop([\"latitude\", \"longitude\"], axis=1)\n",
    "    \n",
    "    # Convert Date to datetime\n",
    "    meteo[\"Date\"] = pd.to_datetime(meteo[\"validity_date\"], format=\"%Y%m%d\")\n",
    "    \n",
    "    # Convert DataFrame to GeoDataFrame\n",
    "    meteo = GeoDataFrame(meteo, crs=\"EPSG:4326\", geometry=geometry)\n",
    "    \n",
    "    # Lowercase column names\n",
    "    meteo.columns = [col_name.lower() for col_name in meteo.columns]\n",
    "    \n",
    "    # Assert meteo type is GeoDataFrame\n",
    "    assert isinstance(meteo, geopandas.geodataframe.GeoDataFrame)\n",
    "    \n",
    "    # Load region geojson\n",
    "    region = geopandas.read_file(\"../data/fichiers_open_data/meteo/region.geojson\")\n",
    "\n",
    "    # Assert region type is GeoDataFrame\n",
    "    assert isinstance(region, geopandas.geodataframe.GeoDataFrame)\n",
    "    \n",
    "    # Perform spatial join to get regions for each point in the meteo data\n",
    "    meteo_region = geopandas.sjoin(\n",
    "        left_df=meteo,\n",
    "        right_df=region,\n",
    "        how=\"left\",\n",
    "    )\n",
    "    \n",
    "    # Clean up and rename columns\n",
    "    meteo_region = (meteo_region\n",
    "        .drop([\"index_right\", \"code\"], axis=1)\n",
    "        .rename(columns={\n",
    "            \"date\": \"DATE\",\n",
    "            \"value\": \"VALUE\",\n",
    "            \"nom\": \"REGION\",\n",
    "            \"parameter_units\": \"UNITS\"\n",
    "        })\n",
    "        .assign(LONGITUDE=meteo_region[\"geometry\"].x, \n",
    "                LATITUDE=meteo_region[\"geometry\"].y)\n",
    "        .drop([\"geometry\"], axis=1)\n",
    "        .dropna()\n",
    "        .reset_index(drop=True) \n",
    "    )\n",
    "    return meteo_region\n"
   ]
  }
 ],
 "metadata": {
  "kernelspec": {
   "display_name": "Python 3 (ipykernel)",
   "language": "python",
   "name": "python3"
  },
  "language_info": {
   "codemirror_mode": {
    "name": "ipython",
    "version": 3
   },
   "file_extension": ".py",
   "mimetype": "text/x-python",
   "name": "python",
   "nbconvert_exporter": "python",
   "pygments_lexer": "ipython3",
   "version": "3.9.6"
  }
 },
 "nbformat": 4,
 "nbformat_minor": 5
}
