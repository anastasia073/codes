{
 "cells": [
  {
   "cell_type": "markdown",
   "id": "50b7b6fc-dedf-4afa-a86c-f9ec3c64aeed",
   "metadata": {},
   "source": [
    "# Code to perform time series cross-validation"
   ]
  },
  {
   "cell_type": "code",
   "execution_count": null,
   "id": "751b4a97-2f02-408e-8247-d4d9e5c445ba",
   "metadata": {},
   "outputs": [],
   "source": [
    "from sklearn.model_selection import TimeSeriesSplit\n",
    "\n",
    "def train_test_split(unique_periods, chronological_sales_train_data, X_train, Y_train):\n",
    "    tscv = TimeSeriesSplit(n_splits=5)  # Define the number of splits\n",
    "\n",
    "    for train_periods, test_periods in tscv.split(unique_periods):\n",
    "        periods_train = [unique_periods[i] for i in train_periods]\n",
    "        periods_test = [unique_periods[i] for i in test_periods]\n",
    "\n",
    "        indices_train = [\n",
    "            i\n",
    "            for i, period in enumerate(chronological_sales_train_data[\"TIME\"])\n",
    "            if period in periods_train\n",
    "        ]\n",
    "        indices_test = [\n",
    "            i\n",
    "            for i, period in enumerate(chronological_sales_train_data[\"TIME\"])\n",
    "            if period in periods_test\n",
    "        ]\n",
    "\n",
    "        X_train_split = X_train.iloc[indices_train]\n",
    "        Y_train_split = Y_train.iloc[indices_train]\n",
    "\n",
    "        X_test_split = X_train.iloc[indices_test]\n",
    "        Y_test_split = Y_train.iloc[indices_test]\n",
    "\n",
    "        yield X_train_split, Y_train_split, X_test_split, Y_test_split\n",
    "\n",
    "def multi_output_random_forest(unique_periods, chronological_sales_train_data, X_train, Y_train):\n",
    "    # ... (your existing code)\n",
    "    for X_train_split, Y_train_split, X_test_split, Y_test_split in train_test_split(unique_periods, chronological_sales_train_data, X_train, Y_train):\n",
    "        # ... (your existing code)\n",
    "        # No need to repeat the train-test split process\n",
    "        pass\n",
    "\n",
    "def multi_output_gradient_boosting(unique_periods, chronological_sales_train_data, X_train, Y_train):\n",
    "    # ... (your existing code)\n",
    "    for X_train_split, Y_train_split, X_test_split, Y_test_split in train_test_split(unique_periods, chronological_sales_train_data, X_train, Y_train):\n",
    "        # ... (your existing code)\n",
    "        # No need to repeat the train-test split process\n",
    "        pass\n"
   ]
  }
 ],
 "metadata": {
  "kernelspec": {
   "display_name": "Python 3 (ipykernel)",
   "language": "python",
   "name": "python3"
  },
  "language_info": {
   "codemirror_mode": {
    "name": "ipython",
    "version": 3
   },
   "file_extension": ".py",
   "mimetype": "text/x-python",
   "name": "python",
   "nbconvert_exporter": "python",
   "pygments_lexer": "ipython3",
   "version": "3.9.6"
  }
 },
 "nbformat": 4,
 "nbformat_minor": 5
}
