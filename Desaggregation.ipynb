{
 "cells": [
  {
   "cell_type": "markdown",
   "id": "bbdf8586-d8bf-411e-bc71-1e59d853d606",
   "metadata": {},
   "source": [
    "# Function to desaggregate time series, i.e. if only annual data are available while quaterly is required"
   ]
  },
  {
   "cell_type": "markdown",
   "id": "f7fe350e-6a6c-436d-8f04-23f00f56d22e",
   "metadata": {},
   "source": [
    "Desaggregation is performed for each combination category x region"
   ]
  },
  {
   "cell_type": "code",
   "execution_count": null,
   "id": "8ad286ea-83df-4800-b276-cbd1e082a4d9",
   "metadata": {},
   "outputs": [],
   "source": [
    "def desaggregate_data(data, category, region):\n",
    "    # Step 1: Select data for the specified category and region\n",
    "    subset_employment_data = select_data(data, category, region)\n",
    "\n",
    "    # Step 2: Merge employment and GDP data based on 'TIME'\n",
    "    employment_gdp_merged = pd.merge(subset_employment_data, gdp, on='TIME', how='outer', suffixes=['_sample1', '_sample2'])\n",
    "\n",
    "    # Step 3: Sort the merged data based on 'TIME' column\n",
    "    employment_gdp_merged.sort_values('TIME', inplace=True)\n",
    "\n",
    "    # Step 4: Reset the index\n",
    "    employment_gdp_merged.reset_index(drop=True, inplace=True)\n",
    "\n",
    "    # Step 5: Fill missing values with NaN\n",
    "    employment_gdp_merged.fillna(value=np.nan, inplace=True)\n",
    "\n",
    "    # Step 6: Forward fill missing values in specific columns\n",
    "    employment_gdp_merged['OFFERS_PREDICTED'] = employment_gdp_merged['OFFERS_PREDICTED'].ffill()\n",
    "    employment_gdp_merged['TRIMESTER'] = employment_gdp_merged['TRIMESTER'].ffill()\n",
    "    employment_gdp_merged['YEAR'] = employment_gdp_merged['YEAR'].ffill()\n",
    "\n",
    "    # Step 7: Calculate the sum of GDP for each trimester and year\n",
    "    gdp_sum_trimester = employment_gdp_merged.groupby(['TRIMESTER', 'YEAR'])['GDP'].sum()\n",
    "    employment_gdp_merged = employment_gdp_merged.merge(gdp_sum_trimester.rename('GDP_SUM'), on=['TRIMESTER', 'YEAR'])\n",
    "\n",
    "    # Step 8: Forward fill missing values in 'GDP_SUM' column\n",
    "    employment_gdp_merged['GDP_SUM'] = employment_gdp_merged['GDP_SUM'].ffill()\n",
    "\n",
    "    # Step 9: Calculate desegregated offers\n",
    "    employment_gdp_merged['OFFERS_NUM_DESAGG'] = employment_gdp_merged['OFFERS_PREDICTED'] * (employment_gdp_merged['GDP'] / employment_gdp_merged['GDP_SUM'])\n",
    "\n",
    "    return employment_gdp_merged\n"
   ]
  }
 ],
 "metadata": {
  "kernelspec": {
   "display_name": "Python 3 (ipykernel)",
   "language": "python",
   "name": "python3"
  },
  "language_info": {
   "codemirror_mode": {
    "name": "ipython",
    "version": 3
   },
   "file_extension": ".py",
   "mimetype": "text/x-python",
   "name": "python",
   "nbconvert_exporter": "python",
   "pygments_lexer": "ipython3",
   "version": "3.9.6"
  }
 },
 "nbformat": 4,
 "nbformat_minor": 5
}
